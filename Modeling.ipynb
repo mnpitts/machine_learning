{
 "cells": [
  {
   "cell_type": "code",
   "execution_count": 56,
   "metadata": {},
   "outputs": [],
   "source": [
    "import pandas as pd\n",
    "import numpy as np\n",
    "import sklearn\n",
    "from sklearn.model_selection import train_test_split\n",
    "from sklearn.linear_model import LinearRegression, ElasticNetCV, ElasticNet\n",
    "from sklearn.metrics import mean_squared_error, mean_absolute_error, explained_variance_score, r2_score\n",
    "from sklearn.ensemble import RandomForestRegressor,  GradientBoostingRegressor, ExtraTreesRegressor, AdaBoostRegressor\n",
    "from sklearn.kernel_ridge import KernelRidge\n",
    "from sklearn.pipeline import make_pipeline\n",
    "from sklearn import preprocessing\n",
    "from sklearn.ensemble import RandomForestClassifier\n",
    "from sklearn.metrics import classification_report, roc_auc_score\n",
    "from sklearn.model_selection import GridSearchCV, train_test_split\n",
    "from sklearn.ensemble import GradientBoostingClassifier\n",
    "from sklearn.base import BaseEstimator, TransformerMixin, RegressorMixin, clone\n",
    "from sklearn.linear_model import Ridge, RidgeCV, ElasticNet, LassoCV, LassoLarsCV, ElasticNet, Lasso,  BayesianRidge, SGDRegressor, LassoLars\n",
    "#import xgboost\n",
    "from sklearn.isotonic import IsotonicRegression\n",
    "from sklearn.neural_network import MLPRegressor\n",
    "from sklearn.svm import SVR\n",
    "import seaborn as sns\n",
    "import matplotlib.pyplot as plt"
   ]
  },
  {
   "cell_type": "markdown",
   "metadata": {},
   "source": [
    "## Read in the data"
   ]
  },
  {
   "cell_type": "code",
   "execution_count": 5,
   "metadata": {},
   "outputs": [],
   "source": [
    "means = pd.read_csv('means.csv')"
   ]
  },
  {
   "cell_type": "code",
   "execution_count": 6,
   "metadata": {},
   "outputs": [],
   "source": [
    "data = pd.read_csv('all_data.csv')"
   ]
  },
  {
   "cell_type": "code",
   "execution_count": 7,
   "metadata": {},
   "outputs": [
    {
     "data": {
      "text/html": [
       "<div>\n",
       "<style scoped>\n",
       "    .dataframe tbody tr th:only-of-type {\n",
       "        vertical-align: middle;\n",
       "    }\n",
       "\n",
       "    .dataframe tbody tr th {\n",
       "        vertical-align: top;\n",
       "    }\n",
       "\n",
       "    .dataframe thead th {\n",
       "        text-align: right;\n",
       "    }\n",
       "</style>\n",
       "<table border=\"1\" class=\"dataframe\">\n",
       "  <thead>\n",
       "    <tr style=\"text-align: right;\">\n",
       "      <th></th>\n",
       "      <th>Unnamed: 0</th>\n",
       "      <th>0</th>\n",
       "      <th>1</th>\n",
       "      <th>col1</th>\n",
       "      <th>col2</th>\n",
       "      <th>col3</th>\n",
       "      <th>col4</th>\n",
       "      <th>col5</th>\n",
       "      <th>col6</th>\n",
       "      <th>col7</th>\n",
       "      <th>...</th>\n",
       "      <th>col291</th>\n",
       "      <th>col292</th>\n",
       "      <th>col293</th>\n",
       "      <th>col294</th>\n",
       "      <th>col295</th>\n",
       "      <th>col296</th>\n",
       "      <th>col297</th>\n",
       "      <th>col298</th>\n",
       "      <th>col299</th>\n",
       "      <th>col300</th>\n",
       "    </tr>\n",
       "  </thead>\n",
       "  <tbody>\n",
       "    <tr>\n",
       "      <th>0</th>\n",
       "      <td>0</td>\n",
       "      <td>AF1.jpg</td>\n",
       "      <td>2.333333</td>\n",
       "      <td>14753.306329</td>\n",
       "      <td>-10537.313323</td>\n",
       "      <td>4796.123493</td>\n",
       "      <td>4664.160051</td>\n",
       "      <td>-848.076282</td>\n",
       "      <td>-4213.488053</td>\n",
       "      <td>-6297.174506</td>\n",
       "      <td>...</td>\n",
       "      <td>-589.001593</td>\n",
       "      <td>305.956515</td>\n",
       "      <td>170.343205</td>\n",
       "      <td>215.295875</td>\n",
       "      <td>-120.854910</td>\n",
       "      <td>-90.750822</td>\n",
       "      <td>102.993594</td>\n",
       "      <td>237.960580</td>\n",
       "      <td>-58.396608</td>\n",
       "      <td>-134.391637</td>\n",
       "    </tr>\n",
       "    <tr>\n",
       "      <th>1</th>\n",
       "      <td>1</td>\n",
       "      <td>AF10.jpg</td>\n",
       "      <td>3.433333</td>\n",
       "      <td>-877.669551</td>\n",
       "      <td>-1611.237335</td>\n",
       "      <td>-6767.412479</td>\n",
       "      <td>12671.028734</td>\n",
       "      <td>-4133.032706</td>\n",
       "      <td>-4.126768</td>\n",
       "      <td>-3511.761653</td>\n",
       "      <td>...</td>\n",
       "      <td>74.113228</td>\n",
       "      <td>375.218033</td>\n",
       "      <td>389.589442</td>\n",
       "      <td>-20.580012</td>\n",
       "      <td>31.393664</td>\n",
       "      <td>188.063343</td>\n",
       "      <td>169.272286</td>\n",
       "      <td>431.004629</td>\n",
       "      <td>-36.523396</td>\n",
       "      <td>-274.955104</td>\n",
       "    </tr>\n",
       "    <tr>\n",
       "      <th>2</th>\n",
       "      <td>2</td>\n",
       "      <td>AF100.jpg</td>\n",
       "      <td>2.900000</td>\n",
       "      <td>2981.296490</td>\n",
       "      <td>-1145.419869</td>\n",
       "      <td>812.762690</td>\n",
       "      <td>-3604.079572</td>\n",
       "      <td>-3597.394101</td>\n",
       "      <td>-913.488351</td>\n",
       "      <td>-145.312380</td>\n",
       "      <td>...</td>\n",
       "      <td>34.024408</td>\n",
       "      <td>-105.080011</td>\n",
       "      <td>-148.214423</td>\n",
       "      <td>-211.059903</td>\n",
       "      <td>55.151686</td>\n",
       "      <td>342.184362</td>\n",
       "      <td>70.153276</td>\n",
       "      <td>-40.115222</td>\n",
       "      <td>-21.838561</td>\n",
       "      <td>-129.367113</td>\n",
       "    </tr>\n",
       "    <tr>\n",
       "      <th>3</th>\n",
       "      <td>3</td>\n",
       "      <td>AF1000.jpg</td>\n",
       "      <td>3.966667</td>\n",
       "      <td>8788.184795</td>\n",
       "      <td>-2737.839489</td>\n",
       "      <td>603.520709</td>\n",
       "      <td>2934.703438</td>\n",
       "      <td>-12111.143812</td>\n",
       "      <td>1544.994762</td>\n",
       "      <td>5216.692118</td>\n",
       "      <td>...</td>\n",
       "      <td>-12.944943</td>\n",
       "      <td>-46.992793</td>\n",
       "      <td>240.276136</td>\n",
       "      <td>-119.551204</td>\n",
       "      <td>-152.961971</td>\n",
       "      <td>28.813398</td>\n",
       "      <td>-266.144072</td>\n",
       "      <td>40.500406</td>\n",
       "      <td>-147.087239</td>\n",
       "      <td>13.409716</td>\n",
       "    </tr>\n",
       "    <tr>\n",
       "      <th>4</th>\n",
       "      <td>4</td>\n",
       "      <td>AF1001.jpg</td>\n",
       "      <td>3.733333</td>\n",
       "      <td>-2415.484826</td>\n",
       "      <td>2987.243092</td>\n",
       "      <td>-3833.612855</td>\n",
       "      <td>169.538238</td>\n",
       "      <td>-3573.068735</td>\n",
       "      <td>7116.482720</td>\n",
       "      <td>5758.109405</td>\n",
       "      <td>...</td>\n",
       "      <td>-266.388857</td>\n",
       "      <td>145.086674</td>\n",
       "      <td>523.457912</td>\n",
       "      <td>27.281604</td>\n",
       "      <td>210.957396</td>\n",
       "      <td>186.067448</td>\n",
       "      <td>-227.734618</td>\n",
       "      <td>-470.221368</td>\n",
       "      <td>24.514891</td>\n",
       "      <td>128.060678</td>\n",
       "    </tr>\n",
       "  </tbody>\n",
       "</table>\n",
       "<p>5 rows × 303 columns</p>\n",
       "</div>"
      ],
      "text/plain": [
       "   Unnamed: 0           0         1          col1          col2         col3  \\\n",
       "0           0     AF1.jpg  2.333333  14753.306329 -10537.313323  4796.123493   \n",
       "1           1    AF10.jpg  3.433333   -877.669551  -1611.237335 -6767.412479   \n",
       "2           2   AF100.jpg  2.900000   2981.296490  -1145.419869   812.762690   \n",
       "3           3  AF1000.jpg  3.966667   8788.184795  -2737.839489   603.520709   \n",
       "4           4  AF1001.jpg  3.733333  -2415.484826   2987.243092 -3833.612855   \n",
       "\n",
       "           col4          col5         col6         col7     ...      \\\n",
       "0   4664.160051   -848.076282 -4213.488053 -6297.174506     ...       \n",
       "1  12671.028734  -4133.032706    -4.126768 -3511.761653     ...       \n",
       "2  -3604.079572  -3597.394101  -913.488351  -145.312380     ...       \n",
       "3   2934.703438 -12111.143812  1544.994762  5216.692118     ...       \n",
       "4    169.538238  -3573.068735  7116.482720  5758.109405     ...       \n",
       "\n",
       "       col291      col292      col293      col294      col295      col296  \\\n",
       "0 -589.001593  305.956515  170.343205  215.295875 -120.854910  -90.750822   \n",
       "1   74.113228  375.218033  389.589442  -20.580012   31.393664  188.063343   \n",
       "2   34.024408 -105.080011 -148.214423 -211.059903   55.151686  342.184362   \n",
       "3  -12.944943  -46.992793  240.276136 -119.551204 -152.961971   28.813398   \n",
       "4 -266.388857  145.086674  523.457912   27.281604  210.957396  186.067448   \n",
       "\n",
       "       col297      col298      col299      col300  \n",
       "0  102.993594  237.960580  -58.396608 -134.391637  \n",
       "1  169.272286  431.004629  -36.523396 -274.955104  \n",
       "2   70.153276  -40.115222  -21.838561 -129.367113  \n",
       "3 -266.144072   40.500406 -147.087239   13.409716  \n",
       "4 -227.734618 -470.221368   24.514891  128.060678  \n",
       "\n",
       "[5 rows x 303 columns]"
      ]
     },
     "execution_count": 7,
     "metadata": {},
     "output_type": "execute_result"
    }
   ],
   "source": [
    "data.head()"
   ]
  },
  {
   "cell_type": "code",
   "execution_count": 8,
   "metadata": {},
   "outputs": [
    {
     "name": "stdout",
     "output_type": "stream",
     "text": [
      "(5500, 3) (5500, 303)\n"
     ]
    }
   ],
   "source": [
    "# make sure we have a mean for every observation\n",
    "print(means.shape, data.shape)"
   ]
  },
  {
   "cell_type": "code",
   "execution_count": 9,
   "metadata": {},
   "outputs": [
    {
     "data": {
      "text/html": [
       "<div>\n",
       "<style scoped>\n",
       "    .dataframe tbody tr th:only-of-type {\n",
       "        vertical-align: middle;\n",
       "    }\n",
       "\n",
       "    .dataframe tbody tr th {\n",
       "        vertical-align: top;\n",
       "    }\n",
       "\n",
       "    .dataframe thead th {\n",
       "        text-align: right;\n",
       "    }\n",
       "</style>\n",
       "<table border=\"1\" class=\"dataframe\">\n",
       "  <thead>\n",
       "    <tr style=\"text-align: right;\">\n",
       "      <th></th>\n",
       "      <th>Unnamed: 0</th>\n",
       "      <th>0</th>\n",
       "      <th>1</th>\n",
       "    </tr>\n",
       "  </thead>\n",
       "  <tbody>\n",
       "    <tr>\n",
       "      <th>0</th>\n",
       "      <td>0</td>\n",
       "      <td>AF1.jpg</td>\n",
       "      <td>2.333333</td>\n",
       "    </tr>\n",
       "    <tr>\n",
       "      <th>1</th>\n",
       "      <td>1</td>\n",
       "      <td>AF10.jpg</td>\n",
       "      <td>3.433333</td>\n",
       "    </tr>\n",
       "    <tr>\n",
       "      <th>2</th>\n",
       "      <td>2</td>\n",
       "      <td>AF100.jpg</td>\n",
       "      <td>2.900000</td>\n",
       "    </tr>\n",
       "    <tr>\n",
       "      <th>3</th>\n",
       "      <td>3</td>\n",
       "      <td>AF1000.jpg</td>\n",
       "      <td>3.966667</td>\n",
       "    </tr>\n",
       "    <tr>\n",
       "      <th>4</th>\n",
       "      <td>4</td>\n",
       "      <td>AF1001.jpg</td>\n",
       "      <td>3.733333</td>\n",
       "    </tr>\n",
       "  </tbody>\n",
       "</table>\n",
       "</div>"
      ],
      "text/plain": [
       "   Unnamed: 0           0         1\n",
       "0           0     AF1.jpg  2.333333\n",
       "1           1    AF10.jpg  3.433333\n",
       "2           2   AF100.jpg  2.900000\n",
       "3           3  AF1000.jpg  3.966667\n",
       "4           4  AF1001.jpg  3.733333"
      ]
     },
     "execution_count": 9,
     "metadata": {},
     "output_type": "execute_result"
    }
   ],
   "source": [
    "# lets see exactly which column we want and those we dont want\n",
    "means.head()"
   ]
  },
  {
   "cell_type": "code",
   "execution_count": 10,
   "metadata": {},
   "outputs": [],
   "source": [
    "means.columns = ['first', 'id', 'target']"
   ]
  },
  {
   "cell_type": "code",
   "execution_count": 11,
   "metadata": {},
   "outputs": [],
   "source": [
    "means = means.drop('first', axis=1)"
   ]
  },
  {
   "cell_type": "code",
   "execution_count": 12,
   "metadata": {},
   "outputs": [
    {
     "data": {
      "text/html": [
       "<div>\n",
       "<style scoped>\n",
       "    .dataframe tbody tr th:only-of-type {\n",
       "        vertical-align: middle;\n",
       "    }\n",
       "\n",
       "    .dataframe tbody tr th {\n",
       "        vertical-align: top;\n",
       "    }\n",
       "\n",
       "    .dataframe thead th {\n",
       "        text-align: right;\n",
       "    }\n",
       "</style>\n",
       "<table border=\"1\" class=\"dataframe\">\n",
       "  <thead>\n",
       "    <tr style=\"text-align: right;\">\n",
       "      <th></th>\n",
       "      <th>id</th>\n",
       "      <th>target</th>\n",
       "    </tr>\n",
       "  </thead>\n",
       "  <tbody>\n",
       "    <tr>\n",
       "      <th>0</th>\n",
       "      <td>AF1.jpg</td>\n",
       "      <td>2.333333</td>\n",
       "    </tr>\n",
       "    <tr>\n",
       "      <th>1</th>\n",
       "      <td>AF10.jpg</td>\n",
       "      <td>3.433333</td>\n",
       "    </tr>\n",
       "    <tr>\n",
       "      <th>2</th>\n",
       "      <td>AF100.jpg</td>\n",
       "      <td>2.900000</td>\n",
       "    </tr>\n",
       "    <tr>\n",
       "      <th>3</th>\n",
       "      <td>AF1000.jpg</td>\n",
       "      <td>3.966667</td>\n",
       "    </tr>\n",
       "    <tr>\n",
       "      <th>4</th>\n",
       "      <td>AF1001.jpg</td>\n",
       "      <td>3.733333</td>\n",
       "    </tr>\n",
       "  </tbody>\n",
       "</table>\n",
       "</div>"
      ],
      "text/plain": [
       "           id    target\n",
       "0     AF1.jpg  2.333333\n",
       "1    AF10.jpg  3.433333\n",
       "2   AF100.jpg  2.900000\n",
       "3  AF1000.jpg  3.966667\n",
       "4  AF1001.jpg  3.733333"
      ]
     },
     "execution_count": 12,
     "metadata": {},
     "output_type": "execute_result"
    }
   ],
   "source": [
    "means.head()"
   ]
  },
  {
   "cell_type": "code",
   "execution_count": 13,
   "metadata": {},
   "outputs": [],
   "source": [
    "data.rename(columns={'0':'file',\n",
    "                          '1':'mean'}, \n",
    "                 inplace=True)\n",
    "data = data.drop('Unnamed: 0', axis=1)"
   ]
  },
  {
   "cell_type": "code",
   "execution_count": 14,
   "metadata": {},
   "outputs": [
    {
     "data": {
      "text/html": [
       "<div>\n",
       "<style scoped>\n",
       "    .dataframe tbody tr th:only-of-type {\n",
       "        vertical-align: middle;\n",
       "    }\n",
       "\n",
       "    .dataframe tbody tr th {\n",
       "        vertical-align: top;\n",
       "    }\n",
       "\n",
       "    .dataframe thead th {\n",
       "        text-align: right;\n",
       "    }\n",
       "</style>\n",
       "<table border=\"1\" class=\"dataframe\">\n",
       "  <thead>\n",
       "    <tr style=\"text-align: right;\">\n",
       "      <th></th>\n",
       "      <th>file</th>\n",
       "      <th>mean</th>\n",
       "      <th>col1</th>\n",
       "      <th>col2</th>\n",
       "      <th>col3</th>\n",
       "      <th>col4</th>\n",
       "      <th>col5</th>\n",
       "      <th>col6</th>\n",
       "      <th>col7</th>\n",
       "      <th>col8</th>\n",
       "      <th>...</th>\n",
       "      <th>col291</th>\n",
       "      <th>col292</th>\n",
       "      <th>col293</th>\n",
       "      <th>col294</th>\n",
       "      <th>col295</th>\n",
       "      <th>col296</th>\n",
       "      <th>col297</th>\n",
       "      <th>col298</th>\n",
       "      <th>col299</th>\n",
       "      <th>col300</th>\n",
       "    </tr>\n",
       "  </thead>\n",
       "  <tbody>\n",
       "    <tr>\n",
       "      <th>0</th>\n",
       "      <td>AF1.jpg</td>\n",
       "      <td>2.333333</td>\n",
       "      <td>14753.306329</td>\n",
       "      <td>-10537.313323</td>\n",
       "      <td>4796.123493</td>\n",
       "      <td>4664.160051</td>\n",
       "      <td>-848.076282</td>\n",
       "      <td>-4213.488053</td>\n",
       "      <td>-6297.174506</td>\n",
       "      <td>671.269266</td>\n",
       "      <td>...</td>\n",
       "      <td>-589.001593</td>\n",
       "      <td>305.956515</td>\n",
       "      <td>170.343205</td>\n",
       "      <td>215.295875</td>\n",
       "      <td>-120.854910</td>\n",
       "      <td>-90.750822</td>\n",
       "      <td>102.993594</td>\n",
       "      <td>237.960580</td>\n",
       "      <td>-58.396608</td>\n",
       "      <td>-134.391637</td>\n",
       "    </tr>\n",
       "    <tr>\n",
       "      <th>1</th>\n",
       "      <td>AF10.jpg</td>\n",
       "      <td>3.433333</td>\n",
       "      <td>-877.669551</td>\n",
       "      <td>-1611.237335</td>\n",
       "      <td>-6767.412479</td>\n",
       "      <td>12671.028734</td>\n",
       "      <td>-4133.032706</td>\n",
       "      <td>-4.126768</td>\n",
       "      <td>-3511.761653</td>\n",
       "      <td>-2580.398078</td>\n",
       "      <td>...</td>\n",
       "      <td>74.113228</td>\n",
       "      <td>375.218033</td>\n",
       "      <td>389.589442</td>\n",
       "      <td>-20.580012</td>\n",
       "      <td>31.393664</td>\n",
       "      <td>188.063343</td>\n",
       "      <td>169.272286</td>\n",
       "      <td>431.004629</td>\n",
       "      <td>-36.523396</td>\n",
       "      <td>-274.955104</td>\n",
       "    </tr>\n",
       "    <tr>\n",
       "      <th>2</th>\n",
       "      <td>AF100.jpg</td>\n",
       "      <td>2.900000</td>\n",
       "      <td>2981.296490</td>\n",
       "      <td>-1145.419869</td>\n",
       "      <td>812.762690</td>\n",
       "      <td>-3604.079572</td>\n",
       "      <td>-3597.394101</td>\n",
       "      <td>-913.488351</td>\n",
       "      <td>-145.312380</td>\n",
       "      <td>2368.152970</td>\n",
       "      <td>...</td>\n",
       "      <td>34.024408</td>\n",
       "      <td>-105.080011</td>\n",
       "      <td>-148.214423</td>\n",
       "      <td>-211.059903</td>\n",
       "      <td>55.151686</td>\n",
       "      <td>342.184362</td>\n",
       "      <td>70.153276</td>\n",
       "      <td>-40.115222</td>\n",
       "      <td>-21.838561</td>\n",
       "      <td>-129.367113</td>\n",
       "    </tr>\n",
       "    <tr>\n",
       "      <th>3</th>\n",
       "      <td>AF1000.jpg</td>\n",
       "      <td>3.966667</td>\n",
       "      <td>8788.184795</td>\n",
       "      <td>-2737.839489</td>\n",
       "      <td>603.520709</td>\n",
       "      <td>2934.703438</td>\n",
       "      <td>-12111.143812</td>\n",
       "      <td>1544.994762</td>\n",
       "      <td>5216.692118</td>\n",
       "      <td>-2348.226729</td>\n",
       "      <td>...</td>\n",
       "      <td>-12.944943</td>\n",
       "      <td>-46.992793</td>\n",
       "      <td>240.276136</td>\n",
       "      <td>-119.551204</td>\n",
       "      <td>-152.961971</td>\n",
       "      <td>28.813398</td>\n",
       "      <td>-266.144072</td>\n",
       "      <td>40.500406</td>\n",
       "      <td>-147.087239</td>\n",
       "      <td>13.409716</td>\n",
       "    </tr>\n",
       "    <tr>\n",
       "      <th>4</th>\n",
       "      <td>AF1001.jpg</td>\n",
       "      <td>3.733333</td>\n",
       "      <td>-2415.484826</td>\n",
       "      <td>2987.243092</td>\n",
       "      <td>-3833.612855</td>\n",
       "      <td>169.538238</td>\n",
       "      <td>-3573.068735</td>\n",
       "      <td>7116.482720</td>\n",
       "      <td>5758.109405</td>\n",
       "      <td>5181.613324</td>\n",
       "      <td>...</td>\n",
       "      <td>-266.388857</td>\n",
       "      <td>145.086674</td>\n",
       "      <td>523.457912</td>\n",
       "      <td>27.281604</td>\n",
       "      <td>210.957396</td>\n",
       "      <td>186.067448</td>\n",
       "      <td>-227.734618</td>\n",
       "      <td>-470.221368</td>\n",
       "      <td>24.514891</td>\n",
       "      <td>128.060678</td>\n",
       "    </tr>\n",
       "  </tbody>\n",
       "</table>\n",
       "<p>5 rows × 302 columns</p>\n",
       "</div>"
      ],
      "text/plain": [
       "         file      mean          col1          col2         col3  \\\n",
       "0     AF1.jpg  2.333333  14753.306329 -10537.313323  4796.123493   \n",
       "1    AF10.jpg  3.433333   -877.669551  -1611.237335 -6767.412479   \n",
       "2   AF100.jpg  2.900000   2981.296490  -1145.419869   812.762690   \n",
       "3  AF1000.jpg  3.966667   8788.184795  -2737.839489   603.520709   \n",
       "4  AF1001.jpg  3.733333  -2415.484826   2987.243092 -3833.612855   \n",
       "\n",
       "           col4          col5         col6         col7         col8  \\\n",
       "0   4664.160051   -848.076282 -4213.488053 -6297.174506   671.269266   \n",
       "1  12671.028734  -4133.032706    -4.126768 -3511.761653 -2580.398078   \n",
       "2  -3604.079572  -3597.394101  -913.488351  -145.312380  2368.152970   \n",
       "3   2934.703438 -12111.143812  1544.994762  5216.692118 -2348.226729   \n",
       "4    169.538238  -3573.068735  7116.482720  5758.109405  5181.613324   \n",
       "\n",
       "      ...          col291      col292      col293      col294      col295  \\\n",
       "0     ...     -589.001593  305.956515  170.343205  215.295875 -120.854910   \n",
       "1     ...       74.113228  375.218033  389.589442  -20.580012   31.393664   \n",
       "2     ...       34.024408 -105.080011 -148.214423 -211.059903   55.151686   \n",
       "3     ...      -12.944943  -46.992793  240.276136 -119.551204 -152.961971   \n",
       "4     ...     -266.388857  145.086674  523.457912   27.281604  210.957396   \n",
       "\n",
       "       col296      col297      col298      col299      col300  \n",
       "0  -90.750822  102.993594  237.960580  -58.396608 -134.391637  \n",
       "1  188.063343  169.272286  431.004629  -36.523396 -274.955104  \n",
       "2  342.184362   70.153276  -40.115222  -21.838561 -129.367113  \n",
       "3   28.813398 -266.144072   40.500406 -147.087239   13.409716  \n",
       "4  186.067448 -227.734618 -470.221368   24.514891  128.060678  \n",
       "\n",
       "[5 rows x 302 columns]"
      ]
     },
     "execution_count": 14,
     "metadata": {},
     "output_type": "execute_result"
    }
   ],
   "source": [
    "data.head()"
   ]
  },
  {
   "cell_type": "code",
   "execution_count": 15,
   "metadata": {},
   "outputs": [],
   "source": [
    "y = data['mean']\n",
    "X = data.drop('mean', axis=1).drop('file', axis=1)"
   ]
  },
  {
   "cell_type": "code",
   "execution_count": 16,
   "metadata": {},
   "outputs": [],
   "source": [
    "# get a final test set that I will do absolutely no training on, merely once I find a model that I like\n",
    "X_temp, X_final_test, y_temp, y_final_test = train_test_split(X, y, test_size=0.1, random_state=42)"
   ]
  },
  {
   "cell_type": "code",
   "execution_count": 17,
   "metadata": {},
   "outputs": [],
   "source": [
    "# create training and testing sets for modelling\n",
    "X_train, X_test, y_train, y_test = train_test_split(X_temp, y_temp, test_size=0.35, random_state=42)"
   ]
  },
  {
   "cell_type": "code",
   "execution_count": 18,
   "metadata": {},
   "outputs": [
    {
     "data": {
      "text/plain": [
       "(3217, 300)"
      ]
     },
     "execution_count": 18,
     "metadata": {},
     "output_type": "execute_result"
    }
   ],
   "source": [
    "X_train.shape"
   ]
  },
  {
   "cell_type": "code",
   "execution_count": 79,
   "metadata": {},
   "outputs": [
    {
     "data": {
      "text/plain": [
       "(1733, 300)"
      ]
     },
     "execution_count": 79,
     "metadata": {},
     "output_type": "execute_result"
    }
   ],
   "source": [
    "X_test.shape"
   ]
  },
  {
   "cell_type": "code",
   "execution_count": 81,
   "metadata": {},
   "outputs": [
    {
     "data": {
      "text/plain": [
       "4584    3.983333\n",
       "5248    2.550000\n",
       "500     3.850000\n",
       "377     2.916667\n",
       "2932    4.600000\n",
       "5226    3.533333\n",
       "5007    2.766667\n",
       "2589    3.166667\n",
       "1218    2.133333\n",
       "4585    3.316667\n",
       "899     3.800000\n",
       "2860    4.383333\n",
       "2973    3.150000\n",
       "1689    2.233333\n",
       "4766    2.766667\n",
       "1009    2.966667\n",
       "4016    2.850000\n",
       "1410    2.683333\n",
       "1070    3.616667\n",
       "3327    2.733333\n",
       "5412    3.833333\n",
       "2367    2.700000\n",
       "3293    2.500000\n",
       "1135    2.416667\n",
       "1076    1.816667\n",
       "1581    2.783333\n",
       "511     4.000000\n",
       "4337    2.266667\n",
       "4554    3.866667\n",
       "1028    2.300000\n",
       "          ...   \n",
       "4348    2.183333\n",
       "3072    4.400000\n",
       "1753    2.250000\n",
       "405     2.933333\n",
       "2452    2.600000\n",
       "3940    2.183333\n",
       "1995    3.016667\n",
       "1011    3.383333\n",
       "4701    3.716667\n",
       "3756    3.083333\n",
       "1003    4.150000\n",
       "2710    4.200000\n",
       "4611    1.333333\n",
       "1884    3.516667\n",
       "5299    3.933333\n",
       "3670    1.983333\n",
       "3550    2.216667\n",
       "3203    2.250000\n",
       "4573    3.883333\n",
       "3274    2.250000\n",
       "1336    2.783333\n",
       "475     3.500000\n",
       "2301    3.900000\n",
       "483     3.216667\n",
       "4013    2.650000\n",
       "693     3.900000\n",
       "1138    2.583333\n",
       "4753    4.283333\n",
       "2787    3.533333\n",
       "5221    2.816667\n",
       "Name: mean, Length: 1733, dtype: float64"
      ]
     },
     "execution_count": 81,
     "metadata": {},
     "output_type": "execute_result"
    }
   ],
   "source": [
    "y_test"
   ]
  },
  {
   "cell_type": "code",
   "execution_count": 20,
   "metadata": {},
   "outputs": [
    {
     "data": {
      "text/plain": [
       "count    5500.000000\n",
       "mean        2.990891\n",
       "std         0.688112\n",
       "min         1.016667\n",
       "25%         2.500000\n",
       "50%         2.833333\n",
       "75%         3.533333\n",
       "max         4.750000\n",
       "Name: mean, dtype: float64"
      ]
     },
     "execution_count": 20,
     "metadata": {},
     "output_type": "execute_result"
    }
   ],
   "source": [
    "y.describe()"
   ]
  },
  {
   "cell_type": "markdown",
   "metadata": {},
   "source": [
    "# gonna test some models"
   ]
  },
  {
   "cell_type": "code",
   "execution_count": 21,
   "metadata": {},
   "outputs": [],
   "source": [
    "def score_model(preds):\n",
    "    print('Mean squared error:', mean_squared_error(y_test,preds))\n",
    "    #print('Mean absolute error:', mean_absolute_error(y_test,preds))\n",
    "    print('Explained variance score(best 1.0):', explained_variance_score(y_test,preds))\n",
    "    print('r2 score(best 1.0):', r2_score(y_test,preds))"
   ]
  },
  {
   "cell_type": "code",
   "execution_count": 130,
   "metadata": {},
   "outputs": [],
   "source": [
    "def score_model_final(preds):\n",
    "    print('Mean squared error:', mean_squared_error(y_final_test,preds))\n",
    "    #print('Mean absolute error:', mean_absolute_error(y_test,preds))\n",
    "    print('Explained variance score(best 1.0):', explained_variance_score(y_final_test,preds))\n",
    "    print('r2 score(best 1.0):', r2_score(y_final_test,preds))"
   ]
  },
  {
   "cell_type": "code",
   "execution_count": 22,
   "metadata": {},
   "outputs": [],
   "source": [
    "# Code I found online to do multiple models and average them\n",
    "class AveragingModels(BaseEstimator, RegressorMixin, TransformerMixin):\n",
    "    def __init__(self, models):\n",
    "        self.models = models\n",
    "        \n",
    "    # we define clones of the original models to fit the data in\n",
    "    def fit(self, X, y):\n",
    "        self.models_ = [clone(x) for x in self.models]\n",
    "        \n",
    "        # Train cloned base models\n",
    "        for model in self.models_:\n",
    "            model.fit(X, y)\n",
    "\n",
    "        return self\n",
    "    \n",
    "    #Now we do the predictions for cloned models and average them\n",
    "    def predict(self, X):\n",
    "        predictions = np.column_stack([\n",
    "            model.predict(X) for model in self.models_\n",
    "        ])\n",
    "        return np.mean(predictions, axis=1)  "
   ]
  },
  {
   "cell_type": "code",
   "execution_count": 23,
   "metadata": {},
   "outputs": [
    {
     "name": "stdout",
     "output_type": "stream",
     "text": [
      "Mean squared error: 0.38174197918818653\n",
      "Explained variance score(best 1.0): 0.20980097223482175\n",
      "r2 score(best 1.0): 0.20749216915804103\n"
     ]
    }
   ],
   "source": [
    "reg = LinearRegression().fit(X_train, y_train)\n",
    "preds = reg.predict(X_test)\n",
    "score_model(preds)"
   ]
  },
  {
   "cell_type": "code",
   "execution_count": 24,
   "metadata": {},
   "outputs": [
    {
     "name": "stderr",
     "output_type": "stream",
     "text": [
      "/anaconda3/lib/python3.7/site-packages/sklearn/model_selection/_split.py:2053: FutureWarning: You should specify a value for 'cv' instead of relying on the default value. The default value will change from 3 to 5 in version 0.22.\n",
      "  warnings.warn(CV_WARNING, FutureWarning)\n"
     ]
    },
    {
     "name": "stdout",
     "output_type": "stream",
     "text": [
      "Mean squared error: 0.35436968383256745\n",
      "Explained variance score(best 1.0): 0.2660326498919724\n",
      "r2 score(best 1.0): 0.26431787762106873\n"
     ]
    }
   ],
   "source": [
    "enetcv = ElasticNetCV().fit(X_train, y_train)\n",
    "preds = enetcv.predict(X_test)\n",
    "score_model(preds)"
   ]
  },
  {
   "cell_type": "code",
   "execution_count": 25,
   "metadata": {},
   "outputs": [
    {
     "name": "stdout",
     "output_type": "stream",
     "text": [
      "Mean squared error: 0.37336747479972315\n",
      "Explained variance score(best 1.0): 0.227123678874957\n",
      "r2 score(best 1.0): 0.22487789215709797\n"
     ]
    }
   ],
   "source": [
    "enet = ElasticNet().fit(X_train, y_train)\n",
    "preds = enet.predict(X_test)\n",
    "score_model(preds)"
   ]
  },
  {
   "cell_type": "code",
   "execution_count": 26,
   "metadata": {},
   "outputs": [
    {
     "name": "stdout",
     "output_type": "stream",
     "text": [
      "Mean squared error: 11.195010992678052\n",
      "Explained variance score(best 1.0): -0.9866080968554163\n",
      "r2 score(best 1.0): -22.241179544693175\n"
     ]
    }
   ],
   "source": [
    "krr = KernelRidge().fit(X_train, y_train)\n",
    "preds = krr.predict(X_test)\n",
    "score_model(preds)"
   ]
  },
  {
   "cell_type": "code",
   "execution_count": 27,
   "metadata": {},
   "outputs": [
    {
     "name": "stderr",
     "output_type": "stream",
     "text": [
      "/anaconda3/lib/python3.7/site-packages/sklearn/ensemble/forest.py:246: FutureWarning: The default value of n_estimators will change from 10 in version 0.20 to 100 in 0.22.\n",
      "  \"10 in version 0.20 to 100 in 0.22.\", FutureWarning)\n"
     ]
    },
    {
     "name": "stdout",
     "output_type": "stream",
     "text": [
      "Mean squared error: 0.3868171619678323\n",
      "Explained variance score(best 1.0): 0.19810540129878484\n",
      "r2 score(best 1.0): 0.1969559370559888\n"
     ]
    }
   ],
   "source": [
    "rando_forest = RandomForestRegressor().fit(X_train, y_train)\n",
    "preds = rando_forest.predict(X_test)\n",
    "score_model(preds)"
   ]
  },
  {
   "cell_type": "code",
   "execution_count": 77,
   "metadata": {},
   "outputs": [
    {
     "name": "stdout",
     "output_type": "stream",
     "text": [
      "Mean squared error: 0.3236629902676737\n",
      "Explained variance score(best 1.0): 0.32901490336709294\n",
      "r2 score(best 1.0): 0.32806589705868516\n"
     ]
    },
    {
     "data": {
      "text/plain": [
       "array([4.05786621, 2.69572799, 3.45491503, 3.28744601, 2.96979294])"
      ]
     },
     "execution_count": 77,
     "metadata": {},
     "output_type": "execute_result"
    }
   ],
   "source": [
    "gradient_boost = GradientBoostingRegressor().fit(X_train, y_train)\n",
    "preds = gradient_boost.predict(X_test)\n",
    "score_model(preds)\n",
    "preds[:5]"
   ]
  },
  {
   "cell_type": "code",
   "execution_count": 76,
   "metadata": {},
   "outputs": [
    {
     "name": "stdout",
     "output_type": "stream",
     "text": [
      "Mean squared error: 4.681255111820723e+34\n",
      "Explained variance score(best 1.0): -9.712067851396304e+34\n",
      "r2 score(best 1.0): -9.718426415078642e+34\n"
     ]
    },
    {
     "name": "stderr",
     "output_type": "stream",
     "text": [
      "/anaconda3/lib/python3.7/site-packages/sklearn/linear_model/stochastic_gradient.py:166: FutureWarning: max_iter and tol parameters have been added in SGDRegressor in 0.19. If both are left unset, they default to max_iter=5 and tol=None. If tol is not None, max_iter defaults to max_iter=1000. From 0.21, default max_iter will be 1000, and default tol will be 1e-3.\n",
      "  FutureWarning)\n"
     ]
    }
   ],
   "source": [
    "SGD = SGDRegressor().fit(X_train, y_train)\n",
    "preds = SGD.predict(X_test)\n",
    "score_model(preds)"
   ]
  },
  {
   "cell_type": "code",
   "execution_count": 30,
   "metadata": {},
   "outputs": [
    {
     "name": "stdout",
     "output_type": "stream",
     "text": [
      "Mean squared error: 53182.643067260804\n",
      "Explained variance score(best 1.0): -110407.34913567499\n",
      "r2 score(best 1.0): -110407.76663684809\n"
     ]
    }
   ],
   "source": [
    "MLP = MLPRegressor().fit(X_train, y_train)\n",
    "preds = MLP.predict(X_test)\n",
    "score_model(preds)"
   ]
  },
  {
   "cell_type": "code",
   "execution_count": 31,
   "metadata": {},
   "outputs": [
    {
     "name": "stdout",
     "output_type": "stream",
     "text": [
      "Mean squared error: 0.32619978364990926\n",
      "Explained variance score(best 1.0): 0.3248075512652572\n",
      "r2 score(best 1.0): 0.32279943769541286\n"
     ]
    }
   ],
   "source": [
    "ave_4 = AveragingModels(models = (gradient_boost, enet, reg, rando_forest))\n",
    "ave_4.fit(X_train, y_train)\n",
    "preds = ave_4.predict(X_test)\n",
    "score_model(preds)"
   ]
  },
  {
   "cell_type": "code",
   "execution_count": 32,
   "metadata": {},
   "outputs": [],
   "source": [
    "# # XGBoost\n",
    "# XGB = xgboost.sklearn.XGBModel(colsample_bytree=0.4603, gamma=0.0468, \n",
    "#                               learning_rate=0.05, max_depth=3, \n",
    "#                               min_child_weight=1.7817, n_estimators=2200,\n",
    "#                               reg_alpha=0.4640, reg_lambda=0.8571,\n",
    "#                               subsample=0.5213, silent=1,\n",
    "#                               random_state =7, nthread = -1)#n_estimators=360, max_depth=2, learning_rate=0.1)\n",
    "# XGB.fit(X_train,y_train)\n",
    "# preds = XGB.predict(X_test)\n",
    "# score_model(preds)"
   ]
  },
  {
   "cell_type": "code",
   "execution_count": 33,
   "metadata": {},
   "outputs": [
    {
     "name": "stderr",
     "output_type": "stream",
     "text": [
      "/anaconda3/lib/python3.7/site-packages/scipy/stats/stats.py:1713: FutureWarning: Using a non-tuple sequence for multidimensional indexing is deprecated; use `arr[tuple(seq)]` instead of `arr[seq]`. In the future this will be interpreted as an array index, `arr[np.array(seq)]`, which will result either in an error or a different result.\n",
      "  return np.add.reduce(sorted[indexer] * weights, axis=axis) / sumval\n"
     ]
    },
    {
     "data": {
      "text/plain": [
       "<matplotlib.axes._subplots.AxesSubplot at 0x103924710>"
      ]
     },
     "execution_count": 33,
     "metadata": {},
     "output_type": "execute_result"
    },
    {
     "data": {
      "image/png": "[encoded data removed]",
      "text/plain": [
       "<Figure size 432x288 with 1 Axes>"
      ]
     },
     "metadata": {
      "needs_background": "light"
     },
     "output_type": "display_data"
    }
   ],
   "source": [
    "sns.distplot(preds)"
   ]
  },
  {
   "cell_type": "code",
   "execution_count": 34,
   "metadata": {},
   "outputs": [
    {
     "data": {
      "text/plain": [
       "<matplotlib.axes._subplots.AxesSubplot at 0x1a17ef7dd8>"
      ]
     },
     "execution_count": 34,
     "metadata": {},
     "output_type": "execute_result"
    },
    {
     "data": {
      "image/png": "[encoded data removed]",
      "text/plain": [
       "<Figure size 432x288 with 1 Axes>"
      ]
     },
     "metadata": {
      "needs_background": "light"
     },
     "output_type": "display_data"
    }
   ],
   "source": [
    "sns.distplot(data['mean'])"
   ]
  },
  {
   "cell_type": "markdown",
   "metadata": {},
   "source": [
    "## As you can see, this is no bueno. Let's do a grid search and see if we can do better."
   ]
  },
  {
   "cell_type": "markdown",
   "metadata": {},
   "source": [
    "### Random Forest Regressor with GridSearch"
   ]
  },
  {
   "cell_type": "code",
   "execution_count": 85,
   "metadata": {},
   "outputs": [
    {
     "name": "stdout",
     "output_type": "stream",
     "text": [
      "Fitting 2 folds for each of 9 candidates, totalling 18 fits\n",
      "[CV] max_depth=2, n_estimators=400 ...................................\n"
     ]
    },
    {
     "name": "stderr",
     "output_type": "stream",
     "text": [
      "[Parallel(n_jobs=1)]: Using backend SequentialBackend with 1 concurrent workers.\n"
     ]
    },
    {
     "name": "stdout",
     "output_type": "stream",
     "text": [
      "[CV] .................... max_depth=2, n_estimators=400, total=   8.3s\n",
      "[CV] max_depth=2, n_estimators=400 ...................................\n"
     ]
    },
    {
     "name": "stderr",
     "output_type": "stream",
     "text": [
      "[Parallel(n_jobs=1)]: Done   1 out of   1 | elapsed:    8.4s remaining:    0.0s\n"
     ]
    },
    {
     "name": "stdout",
     "output_type": "stream",
     "text": [
      "[CV] .................... max_depth=2, n_estimators=400, total=   7.4s\n",
      "[CV] max_depth=2, n_estimators=500 ...................................\n",
      "[CV] .................... max_depth=2, n_estimators=500, total=   8.6s\n",
      "[CV] max_depth=2, n_estimators=500 ...................................\n",
      "[CV] .................... max_depth=2, n_estimators=500, total=   8.6s\n",
      "[CV] max_depth=2, n_estimators=600 ...................................\n",
      "[CV] .................... max_depth=2, n_estimators=600, total=  11.6s\n",
      "[CV] max_depth=2, n_estimators=600 ...................................\n",
      "[CV] .................... max_depth=2, n_estimators=600, total=  11.8s\n",
      "[CV] max_depth=4, n_estimators=400 ...................................\n",
      "[CV] .................... max_depth=4, n_estimators=400, total=  13.1s\n",
      "[CV] max_depth=4, n_estimators=400 ...................................\n",
      "[CV] .................... max_depth=4, n_estimators=400, total=  12.9s\n",
      "[CV] max_depth=4, n_estimators=500 ...................................\n",
      "[CV] .................... max_depth=4, n_estimators=500, total=  16.4s\n",
      "[CV] max_depth=4, n_estimators=500 ...................................\n",
      "[CV] .................... max_depth=4, n_estimators=500, total=  16.4s\n",
      "[CV] max_depth=4, n_estimators=600 ...................................\n",
      "[CV] .................... max_depth=4, n_estimators=600, total=  19.2s\n",
      "[CV] max_depth=4, n_estimators=600 ...................................\n",
      "[CV] .................... max_depth=4, n_estimators=600, total=  19.4s\n",
      "[CV] max_depth=6, n_estimators=400 ...................................\n",
      "[CV] .................... max_depth=6, n_estimators=400, total=  19.0s\n",
      "[CV] max_depth=6, n_estimators=400 ...................................\n",
      "[CV] .................... max_depth=6, n_estimators=400, total=  19.0s\n",
      "[CV] max_depth=6, n_estimators=500 ...................................\n",
      "[CV] .................... max_depth=6, n_estimators=500, total=  24.2s\n",
      "[CV] max_depth=6, n_estimators=500 ...................................\n",
      "[CV] .................... max_depth=6, n_estimators=500, total=  28.2s\n",
      "[CV] max_depth=6, n_estimators=600 ...................................\n",
      "[CV] .................... max_depth=6, n_estimators=600, total=  31.6s\n",
      "[CV] max_depth=6, n_estimators=600 ...................................\n",
      "[CV] .................... max_depth=6, n_estimators=600, total=  28.1s\n"
     ]
    },
    {
     "name": "stderr",
     "output_type": "stream",
     "text": [
      "[Parallel(n_jobs=1)]: Done  18 out of  18 | elapsed:  5.1min finished\n"
     ]
    },
    {
     "data": {
      "text/plain": [
       "GridSearchCV(cv=2, error_score='raise-deprecating',\n",
       "       estimator=RandomForestRegressor(bootstrap=True, criterion='mse', max_depth=3,\n",
       "           max_features='auto', max_leaf_nodes=None,\n",
       "           min_impurity_decrease=0.0, min_impurity_split=None,\n",
       "           min_samples_leaf=1, min_samples_split=2,\n",
       "           min_weight_fraction_leaf=0.0, n_estimators='warn', n_jobs=-1,\n",
       "           oob_score=False, random_state=None, verbose=0, warm_start=False),\n",
       "       fit_params=None, iid='warn', n_jobs=1,\n",
       "       param_grid={'n_estimators': [400, 500, 600], 'max_depth': [2, 4, 6]},\n",
       "       pre_dispatch='2*n_jobs', refit=True, return_train_score='warn',\n",
       "       scoring=None, verbose=2)"
      ]
     },
     "execution_count": 85,
     "metadata": {},
     "output_type": "execute_result"
    }
   ],
   "source": [
    "#Now we will create a random forest\n",
    "param_dictionary = {\"n_estimators\": [400, 500, 600], \"max_depth\":[2,4,6]}\n",
    "RFC = RandomForestRegressor(n_jobs=-1, max_depth=3)\n",
    "gs = GridSearchCV(RFC, param_dictionary, n_jobs=1, verbose=2, cv=2)\n",
    "gs.fit(X_train, y_train)"
   ]
  },
  {
   "cell_type": "code",
   "execution_count": 86,
   "metadata": {},
   "outputs": [
    {
     "data": {
      "text/plain": [
       "{'max_depth': 6, 'n_estimators': 600}"
      ]
     },
     "execution_count": 86,
     "metadata": {},
     "output_type": "execute_result"
    }
   ],
   "source": [
    "gs.best_params_"
   ]
  },
  {
   "cell_type": "code",
   "execution_count": 88,
   "metadata": {},
   "outputs": [
    {
     "name": "stderr",
     "output_type": "stream",
     "text": [
      "[Parallel(n_jobs=-1)]: Using backend ThreadingBackend with 4 concurrent workers.\n",
      "[Parallel(n_jobs=-1)]: Done  42 tasks      | elapsed:    7.4s\n",
      "[Parallel(n_jobs=-1)]: Done 192 tasks      | elapsed:   32.5s\n",
      "[Parallel(n_jobs=-1)]: Done 442 tasks      | elapsed:  1.3min\n",
      "[Parallel(n_jobs=-1)]: Done 600 out of 600 | elapsed:  1.8min finished\n"
     ]
    },
    {
     "data": {
      "text/plain": [
       "RandomForestRegressor(bootstrap=True, criterion='mse', max_depth=6,\n",
       "           max_features='auto', max_leaf_nodes=None,\n",
       "           min_impurity_decrease=0.0, min_impurity_split=None,\n",
       "           min_samples_leaf=1, min_samples_split=2,\n",
       "           min_weight_fraction_leaf=0.0, n_estimators=600, n_jobs=-1,\n",
       "           oob_score=False, random_state=None, verbose=1, warm_start=False)"
      ]
     },
     "execution_count": 88,
     "metadata": {},
     "output_type": "execute_result"
    }
   ],
   "source": [
    "#train the model on all of our data\n",
    "clf = RandomForestRegressor(n_jobs=-1, max_depth=6, n_estimators=600, verbose=1)\n",
    "clf.fit(X, y)"
   ]
  },
  {
   "cell_type": "code",
   "execution_count": 89,
   "metadata": {},
   "outputs": [
    {
     "name": "stdout",
     "output_type": "stream",
     "text": [
      "Mean squared error: 0.2971080849947761\n",
      "Explained variance score(best 1.0): 0.38351907778361594\n",
      "r2 score(best 1.0): 0.38319467912449845\n"
     ]
    },
    {
     "name": "stderr",
     "output_type": "stream",
     "text": [
      "[Parallel(n_jobs=4)]: Using backend ThreadingBackend with 4 concurrent workers.\n",
      "[Parallel(n_jobs=4)]: Done  42 tasks      | elapsed:    0.0s\n",
      "[Parallel(n_jobs=4)]: Done 192 tasks      | elapsed:    0.0s\n",
      "[Parallel(n_jobs=4)]: Done 442 tasks      | elapsed:    0.1s\n",
      "[Parallel(n_jobs=4)]: Done 600 out of 600 | elapsed:    0.1s finished\n"
     ]
    }
   ],
   "source": [
    "preds = clf.predict(X_test)\n",
    "score_model(preds)"
   ]
  },
  {
   "cell_type": "markdown",
   "metadata": {},
   "source": [
    "### GradientBoost with GridSearch"
   ]
  },
  {
   "cell_type": "code",
   "execution_count": 108,
   "metadata": {},
   "outputs": [
    {
     "name": "stdout",
     "output_type": "stream",
     "text": [
      "Fitting 2 folds for each of 20 candidates, totalling 40 fits\n",
      "[CV] max_depth=2, n_estimators=100 ...................................\n"
     ]
    },
    {
     "name": "stderr",
     "output_type": "stream",
     "text": [
      "[Parallel(n_jobs=1)]: Using backend SequentialBackend with 1 concurrent workers.\n"
     ]
    },
    {
     "name": "stdout",
     "output_type": "stream",
     "text": [
      "[CV] .................... max_depth=2, n_estimators=100, total=   1.9s\n",
      "[CV] max_depth=2, n_estimators=100 ...................................\n"
     ]
    },
    {
     "name": "stderr",
     "output_type": "stream",
     "text": [
      "[Parallel(n_jobs=1)]: Done   1 out of   1 | elapsed:    1.9s remaining:    0.0s\n"
     ]
    },
    {
     "name": "stdout",
     "output_type": "stream",
     "text": [
      "[CV] .................... max_depth=2, n_estimators=100, total=   2.0s\n",
      "[CV] max_depth=2, n_estimators=200 ...................................\n",
      "[CV] .................... max_depth=2, n_estimators=200, total=   3.7s\n",
      "[CV] max_depth=2, n_estimators=200 ...................................\n",
      "[CV] .................... max_depth=2, n_estimators=200, total=   3.8s\n",
      "[CV] max_depth=2, n_estimators=300 ...................................\n",
      "[CV] .................... max_depth=2, n_estimators=300, total=   5.6s\n",
      "[CV] max_depth=2, n_estimators=300 ...................................\n",
      "[CV] .................... max_depth=2, n_estimators=300, total=   5.7s\n",
      "[CV] max_depth=2, n_estimators=400 ...................................\n",
      "[CV] .................... max_depth=2, n_estimators=400, total=   7.5s\n",
      "[CV] max_depth=2, n_estimators=400 ...................................\n",
      "[CV] .................... max_depth=2, n_estimators=400, total=   7.6s\n",
      "[CV] max_depth=3, n_estimators=100 ...................................\n",
      "[CV] .................... max_depth=3, n_estimators=100, total=   3.1s\n",
      "[CV] max_depth=3, n_estimators=100 ...................................\n",
      "[CV] .................... max_depth=3, n_estimators=100, total=   3.1s\n",
      "[CV] max_depth=3, n_estimators=200 ...................................\n",
      "[CV] .................... max_depth=3, n_estimators=200, total=   6.5s\n",
      "[CV] max_depth=3, n_estimators=200 ...................................\n",
      "[CV] .................... max_depth=3, n_estimators=200, total=   6.2s\n",
      "[CV] max_depth=3, n_estimators=300 ...................................\n",
      "[CV] .................... max_depth=3, n_estimators=300, total=   9.2s\n",
      "[CV] max_depth=3, n_estimators=300 ...................................\n",
      "[CV] .................... max_depth=3, n_estimators=300, total=   9.3s\n",
      "[CV] max_depth=3, n_estimators=400 ...................................\n",
      "[CV] .................... max_depth=3, n_estimators=400, total=  12.5s\n",
      "[CV] max_depth=3, n_estimators=400 ...................................\n",
      "[CV] .................... max_depth=3, n_estimators=400, total=  12.4s\n",
      "[CV] max_depth=4, n_estimators=100 ...................................\n",
      "[CV] .................... max_depth=4, n_estimators=100, total=   4.5s\n",
      "[CV] max_depth=4, n_estimators=100 ...................................\n",
      "[CV] .................... max_depth=4, n_estimators=100, total=   4.6s\n",
      "[CV] max_depth=4, n_estimators=200 ...................................\n",
      "[CV] .................... max_depth=4, n_estimators=200, total=   8.9s\n",
      "[CV] max_depth=4, n_estimators=200 ...................................\n",
      "[CV] .................... max_depth=4, n_estimators=200, total=   9.2s\n",
      "[CV] max_depth=4, n_estimators=300 ...................................\n",
      "[CV] .................... max_depth=4, n_estimators=300, total=  13.4s\n",
      "[CV] max_depth=4, n_estimators=300 ...................................\n",
      "[CV] .................... max_depth=4, n_estimators=300, total=  13.9s\n",
      "[CV] max_depth=4, n_estimators=400 ...................................\n",
      "[CV] .................... max_depth=4, n_estimators=400, total=  18.1s\n",
      "[CV] max_depth=4, n_estimators=400 ...................................\n",
      "[CV] .................... max_depth=4, n_estimators=400, total=  18.4s\n",
      "[CV] max_depth=5, n_estimators=100 ...................................\n",
      "[CV] .................... max_depth=5, n_estimators=100, total=   6.2s\n",
      "[CV] max_depth=5, n_estimators=100 ...................................\n",
      "[CV] .................... max_depth=5, n_estimators=100, total=   6.8s\n",
      "[CV] max_depth=5, n_estimators=200 ...................................\n",
      "[CV] .................... max_depth=5, n_estimators=200, total=  12.8s\n",
      "[CV] max_depth=5, n_estimators=200 ...................................\n",
      "[CV] .................... max_depth=5, n_estimators=200, total=  12.8s\n",
      "[CV] max_depth=5, n_estimators=300 ...................................\n",
      "[CV] .................... max_depth=5, n_estimators=300, total=  19.1s\n",
      "[CV] max_depth=5, n_estimators=300 ...................................\n",
      "[CV] .................... max_depth=5, n_estimators=300, total=  19.5s\n",
      "[CV] max_depth=5, n_estimators=400 ...................................\n",
      "[CV] .................... max_depth=5, n_estimators=400, total=  25.9s\n",
      "[CV] max_depth=5, n_estimators=400 ...................................\n",
      "[CV] .................... max_depth=5, n_estimators=400, total=  25.5s\n",
      "[CV] max_depth=6, n_estimators=100 ...................................\n",
      "[CV] .................... max_depth=6, n_estimators=100, total=   8.6s\n",
      "[CV] max_depth=6, n_estimators=100 ...................................\n",
      "[CV] .................... max_depth=6, n_estimators=100, total=   8.4s\n",
      "[CV] max_depth=6, n_estimators=200 ...................................\n",
      "[CV] .................... max_depth=6, n_estimators=200, total=  17.0s\n",
      "[CV] max_depth=6, n_estimators=200 ...................................\n",
      "[CV] .................... max_depth=6, n_estimators=200, total=  17.2s\n",
      "[CV] max_depth=6, n_estimators=300 ...................................\n",
      "[CV] .................... max_depth=6, n_estimators=300, total=  25.5s\n",
      "[CV] max_depth=6, n_estimators=300 ...................................\n",
      "[CV] .................... max_depth=6, n_estimators=300, total=  25.9s\n",
      "[CV] max_depth=6, n_estimators=400 ...................................\n",
      "[CV] .................... max_depth=6, n_estimators=400, total=  27.9s\n",
      "[CV] max_depth=6, n_estimators=400 ...................................\n",
      "[CV] .................... max_depth=6, n_estimators=400, total=  28.4s\n"
     ]
    },
    {
     "name": "stderr",
     "output_type": "stream",
     "text": [
      "[Parallel(n_jobs=1)]: Done  40 out of  40 | elapsed:  8.0min finished\n"
     ]
    },
    {
     "data": {
      "text/plain": [
       "GridSearchCV(cv=2, error_score='raise-deprecating',\n",
       "       estimator=GradientBoostingRegressor(alpha=0.9, criterion='friedman_mse', init=None,\n",
       "             learning_rate=0.1, loss='ls', max_depth=3, max_features=None,\n",
       "             max_leaf_nodes=None, min_impurity_decrease=0.0,\n",
       "             min_impurity_split=None, min_samples_leaf=1,\n",
       "             min_sampl...=None, subsample=1.0, tol=0.0001,\n",
       "             validation_fraction=0.1, verbose=0, warm_start=False),\n",
       "       fit_params=None, iid='warn', n_jobs=1,\n",
       "       param_grid={'n_estimators': [100, 200, 300, 400], 'max_depth': [2, 3, 4, 5, 6]},\n",
       "       pre_dispatch='2*n_jobs', refit=True, return_train_score='warn',\n",
       "       scoring=None, verbose=2)"
      ]
     },
     "execution_count": 108,
     "metadata": {},
     "output_type": "execute_result"
    }
   ],
   "source": [
    "param_dictionary = {\"n_estimators\": [100, 200, 300, 400], \"max_depth\":[2,3,4,5,6]}\n",
    "gradient_boost = GradientBoostingRegressor()\n",
    "gs = GridSearchCV(gradient_boost, param_dictionary, n_jobs=1, verbose=2, cv=2)\n",
    "gs.fit(X_train, y_train)"
   ]
  },
  {
   "cell_type": "code",
   "execution_count": 109,
   "metadata": {},
   "outputs": [
    {
     "data": {
      "text/plain": [
       "{'max_depth': 3, 'n_estimators': 400}"
      ]
     },
     "execution_count": 109,
     "metadata": {},
     "output_type": "execute_result"
    }
   ],
   "source": [
    "gs.best_params_"
   ]
  },
  {
   "cell_type": "code",
   "execution_count": 111,
   "metadata": {},
   "outputs": [
    {
     "data": {
      "text/plain": [
       "GradientBoostingRegressor(alpha=0.9, criterion='friedman_mse', init=None,\n",
       "             learning_rate=0.1, loss='ls', max_depth=3, max_features=None,\n",
       "             max_leaf_nodes=None, min_impurity_decrease=0.0,\n",
       "             min_impurity_split=None, min_samples_leaf=1,\n",
       "             min_samples_split=2, min_weight_fraction_leaf=0.0,\n",
       "             n_estimators=400, n_iter_no_change=None, presort='auto',\n",
       "             random_state=None, subsample=1.0, tol=0.0001,\n",
       "             validation_fraction=0.1, verbose=0, warm_start=False)"
      ]
     },
     "execution_count": 111,
     "metadata": {},
     "output_type": "execute_result"
    }
   ],
   "source": [
    "dlf = GradientBoostingRegressor(n_estimators=400, max_depth=3)\n",
    "dlf.fit(X,y)"
   ]
  },
  {
   "cell_type": "code",
   "execution_count": 112,
   "metadata": {},
   "outputs": [
    {
     "name": "stdout",
     "output_type": "stream",
     "text": [
      "Mean squared error: 0.09434372120634231\n",
      "Explained variance score(best 1.0): 0.804152767979208\n",
      "r2 score(best 1.0): 0.8041395971022129\n"
     ]
    }
   ],
   "source": [
    "preds = dlf.predict(X_test)\n",
    "score_model(preds)"
   ]
  },
  {
   "cell_type": "code",
   "execution_count": 131,
   "metadata": {},
   "outputs": [
    {
     "name": "stdout",
     "output_type": "stream",
     "text": [
      "Mean squared error: 0.08849149014140982\n",
      "Explained variance score(best 1.0): 0.8169990111545576\n",
      "r2 score(best 1.0): 0.8169873022235123\n"
     ]
    }
   ],
   "source": [
    "preds = dlf.predict(X_final_test)\n",
    "score_model_final(preds)"
   ]
  },
  {
   "cell_type": "markdown",
   "metadata": {},
   "source": [
    "This was by far our best model so we will use this model to rate the images."
   ]
  },
  {
   "cell_type": "markdown",
   "metadata": {},
   "source": [
    "## Individual Pictures"
   ]
  },
  {
   "cell_type": "code",
   "execution_count": 113,
   "metadata": {},
   "outputs": [],
   "source": [
    "people = pd.read_csv(\"ind_pics.csv\")"
   ]
  },
  {
   "cell_type": "code",
   "execution_count": 124,
   "metadata": {},
   "outputs": [],
   "source": [
    "cols = list(people.columns)\n",
    "cols.remove(\"Unnamed: 0\")\n",
    "cols.remove(\"Image\")"
   ]
  },
  {
   "cell_type": "code",
   "execution_count": 125,
   "metadata": {},
   "outputs": [],
   "source": [
    "X_people = people.loc[:,cols]"
   ]
  },
  {
   "cell_type": "code",
   "execution_count": 126,
   "metadata": {},
   "outputs": [],
   "source": [
    "predictions = dlf.predict(X_people)"
   ]
  },
  {
   "cell_type": "code",
   "execution_count": 129,
   "metadata": {},
   "outputs": [
    {
     "name": "stdout",
     "output_type": "stream",
     "text": [
      "0 3.628143372625039\n",
      "1 3.2482053595976543\n",
      "2 3.8801038690960095\n",
      "3 2.4118645067139446\n",
      "4 3.459536457405707\n",
      "5 3.2759728912840274\n",
      "6 2.7621746553344795\n",
      "7 3.2144714711280127\n",
      "8 3.237180028018885\n",
      "9 2.5771159441837357\n",
      "10 2.8934176395933067\n",
      "11 3.2263624669007074\n",
      "12 2.742126773857901\n",
      "13 3.4427201444174345\n",
      "14 3.1273293340651835\n",
      "15 3.3346764059669356\n",
      "16 3.128966299286982\n",
      "17 3.0323293283142125\n",
      "18 3.78106137444032\n",
      "19 3.3367566243940527\n",
      "20 3.2948053925069627\n",
      "21 3.322355375581529\n",
      "22 3.510211335808325\n",
      "23 2.710485001447852\n",
      "24 3.8957894086608333\n",
      "25 3.4371401442168112\n",
      "26 2.3774394116513227\n",
      "27 3.354803990496565\n"
     ]
    }
   ],
   "source": [
    "for i in range(len(predictions)):\n",
    "    print(i, predictions[i])"
   ]
  },
  {
   "cell_type": "code",
   "execution_count": 139,
   "metadata": {},
   "outputs": [],
   "source": [
    "more_people = pd.read_csv(\"ind_pics2.csv\")"
   ]
  },
  {
   "cell_type": "code",
   "execution_count": 140,
   "metadata": {},
   "outputs": [],
   "source": [
    "X_more_people = more_people.loc[:,cols]"
   ]
  },
  {
   "cell_type": "code",
   "execution_count": 143,
   "metadata": {},
   "outputs": [],
   "source": [
    "predictions = dlf.predict(X_more_people)"
   ]
  },
  {
   "cell_type": "code",
   "execution_count": 144,
   "metadata": {},
   "outputs": [
    {
     "name": "stdout",
     "output_type": "stream",
     "text": [
      "0 3.312306400297343\n",
      "1 2.8722267407982778\n",
      "2 3.1435166963234638\n",
      "3 3.389756205281075\n",
      "4 3.268130069530052\n",
      "5 2.81745334560161\n",
      "6 2.959538096971375\n",
      "7 3.1421718263392795\n",
      "8 2.8119999879655486\n",
      "9 4.107876498594492\n",
      "10 3.5916082915065237\n",
      "11 3.2640041644121225\n",
      "12 3.153527286862698\n",
      "13 3.1277590927946224\n",
      "14 3.983706948580847\n",
      "15 3.048884420123973\n",
      "16 3.874708018318998\n",
      "17 3.2454855740360014\n"
     ]
    }
   ],
   "source": [
    "for i in range(len(predictions)):\n",
    "    print(i, predictions[i])"
   ]
  }
 ],
 "metadata": {
  "kernelspec": {
   "display_name": "Python 3",
   "language": "python",
   "name": "python3"
  },
  "language_info": {
   "codemirror_mode": {
    "name": "ipython",
    "version": 3
   },
   "file_extension": ".py",
   "mimetype": "text/x-python",
   "name": "python",
   "nbconvert_exporter": "python",
   "pygments_lexer": "ipython3",
   "version": "3.7.1"
  }
 },
 "nbformat": 4,
 "nbformat_minor": 2
}
